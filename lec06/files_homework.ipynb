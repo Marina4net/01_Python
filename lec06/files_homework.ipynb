{
 "cells": [
  {
   "cell_type": "markdown",
   "metadata": {},
   "source": [
    "# Домашнее задание\n",
    "1. Переведите содержимое файла purchase_log.txt в словарь purchases вида:\n",
    "\n",
    "{'1840e0b9d4': 'Продукты', ...}\n",
    "\n",
    "2. Для каждого user_id в файле visit_log.csv определите третий столбец с категорией покупки (если покупка была, сам файл visit_log.csv изменять не надо). \n",
    "Запишите в файл funnel.csv визиты из файла visit_log.csv, в которых были покупки с указанием категории.\n",
    "\n",
    "Учтите условия на данные:\n",
    "\n",
    "содержимое purchase_log.txt помещается в оперативную память компьютера\n",
    "содержимое visit_log.csv - нет; используйте только построчную обработку этого файла"
   ]
  },
  {
   "cell_type": "code",
   "execution_count": null,
   "metadata": {},
   "outputs": [],
   "source": [
    "import json\n",
    "\n",
    "f = open('purchase_log.txt', 'r', encoding=\"utf-8\")\n",
    "purchase = {}\n",
    "x = 0\n",
    "\n",
    "for line in f:\n",
    "    line = line.strip()\n",
    "    dict_ = json.loads(line)\n",
    "    purchase[dict_[\"user_id\"]] = dict_[\"category\"]\n",
    "\n",
    "f.close()\n",
    "\n",
    "visit_log = open('visit_log.csv', 'r', encoding=\"utf-8\")\n",
    "funnel = open('funnel.csv', 'w', encoding=\"utf-8\")\n",
    "\n",
    "\n",
    "for line in visit_log:\n",
    "    m = line.strip().split(',')\n",
    "    if purchase.get(m[0], False):\n",
    "        line = line.strip() + ',' + purchase[m[0]] + '\\n'\n",
    "        funnel.write(line)\n",
    "\n",
    "visit_log.close()\n",
    "funnel.close()\n"
   ]
  },
  {
   "cell_type": "code",
   "execution_count": null,
   "metadata": {},
   "outputs": [],
   "source": []
  }
 ],
 "metadata": {
  "kernelspec": {
   "display_name": "Python 3",
   "language": "python",
   "name": "python3"
  },
  "language_info": {
   "codemirror_mode": {
    "name": "ipython",
    "version": 3
   },
   "file_extension": ".py",
   "mimetype": "text/x-python",
   "name": "python",
   "nbconvert_exporter": "python",
   "pygments_lexer": "ipython3",
   "version": "3.7.6"
  }
 },
 "nbformat": 4,
 "nbformat_minor": 4
}
