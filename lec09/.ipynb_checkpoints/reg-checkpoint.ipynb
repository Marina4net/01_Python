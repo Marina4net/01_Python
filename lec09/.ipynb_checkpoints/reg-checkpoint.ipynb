{
 "cells": [
  {
   "cell_type": "code",
   "execution_count": 3,
   "metadata": {},
   "outputs": [],
   "source": [
    "import re"
   ]
  },
  {
   "cell_type": "markdown",
   "metadata": {},
   "source": [
    "# Задание 1.\n",
    "Напишите функцию, которая принимает на вход строку и проверяет является ли она валидным транспортным номером. Если да, то функция должна возвращать отдельно номер и регион."
   ]
  },
  {
   "cell_type": "code",
   "execution_count": 1,
   "metadata": {},
   "outputs": [],
   "source": [
    "# проверка транспортного номера первого типа - для легковых, грузопассажирских, грузовых автомобилей а также автобусов вместимостью меньше 8 человек\n",
    "# формат номера М 000 ММ 55 или М 000 ММ 555\n",
    "# разрешенные буквы А В Е К М Н О Р С Т У Х, цифры все\n",
    "\n",
    "string1 = 'T546KC54'\n",
    "string2 = 'В3424ЦБ11'\n",
    "string3 = 'произвольный текст'"
   ]
  },
  {
   "cell_type": "code",
   "execution_count": 117,
   "metadata": {},
   "outputs": [
    {
     "data": {
      "text/plain": [
       "('546', '54')"
      ]
     },
     "execution_count": 117,
     "metadata": {},
     "output_type": "execute_result"
    }
   ],
   "source": [
    "string1 = 'T546KC54'\n",
    "\n",
    "def car_check(car_num):\n",
    "    '''Получает строку, проверяет ли является ли она автомобильном номером. Возвращает кортеж (номер, регион) или отказ'''\n",
    "    car_pattern = r'[ABEKMHOPCTYXАВЕКМНОРСТУХ]\\d{3}[ABEKMHOPCTYXАВЕКМНОРСТУХ]{2}\\d{2,3}'\n",
    "    cn = re.fullmatch(car_pattern, car_num, re.IGNORECASE)\n",
    "    if cn:\n",
    "        return cn.group()[1:4], cn.group()[6:]\n",
    "    else:\n",
    "        print('номер не валидный')\n",
    "\n",
    "car_check(string1)"
   ]
  },
  {
   "cell_type": "markdown",
   "metadata": {},
   "source": [
    "# Задание 2.\n",
    "Постарайтесь написать (в крайнем случае найти) самый полный шаблон для проверки e-mail адресов через регулярное выражение, которая проверяет e-mail адрес на валидность. Можно руководствоваться следующими минимальными требованиями:\n",
    "    \n",
    "    • адрес должен содержать специальный символ “@”, который отделяет имя пользователя почтовой системы от доменного имени;\n",
    "    • адрес не должен содержать следующие символы: “пробел”, “,”, “:”, “;”, “!”, “#”, “%”, “*”, “(”, “)”, “=”, “+”, “{”, “}”, \" \" \", \" ’ \", \" / \", \" \\ \" и “|”;\n",
    "    • адрес должен состоять только из латинских символов;\n",
    "    • после символа “@” должна быть как минимум одна “.”;\n",
    "    • после последней точки должно быть не менее 2-х и не более 4-х символов, причем наличие цифр не допускается;\n",
    "    • между последней точкой и символом “@” должно быть не менее 2-х символов\n",
    "    • слева от “@” должно быть не менее четырех символов"
   ]
  },
  {
   "cell_type": "code",
   "execution_count": 119,
   "metadata": {},
   "outputs": [],
   "source": [
    "e_mail1 = 'proverka@domen.com.ru'\n",
    "e_mail2 = 'fsdhf'"
   ]
  },
  {
   "cell_type": "code",
   "execution_count": 126,
   "metadata": {},
   "outputs": [
    {
     "name": "stdout",
     "output_type": "stream",
     "text": [
      "proverka@domen.com.ru похож на адрес\n"
     ]
    }
   ],
   "source": [
    "def mail_check(string):\n",
    "    '''получает строку и проверяет является ли строка почтовым адресом с минимальными требованиями'''\n",
    "    mail_pattern = r'[\\w\\'._+-]{4,}@[\\w\\'._+-]{2,}\\.[a-z]{2,4}'\n",
    "    m_check = re.fullmatch(mail_pattern, string)\n",
    "    if m_check:\n",
    "        print(string, 'похож на адрес')\n",
    "    else:\n",
    "        print(string, 'не адрес')\n",
    "\n",
    "mail_check(e_mail1)"
   ]
  },
  {
   "cell_type": "markdown",
   "metadata": {},
   "source": [
    "# Задание 3.\n",
    "Напишите функцию, которая будет удалять все последовательные повторы слов из заданной строки при помощи регулярных выражений."
   ]
  },
  {
   "cell_type": "code",
   "execution_count": 72,
   "metadata": {},
   "outputs": [
    {
     "data": {
      "text/plain": [
       "'много разного текста'"
      ]
     },
     "execution_count": 72,
     "metadata": {},
     "output_type": "execute_result"
    }
   ],
   "source": [
    "string1 = 'много много разного разного текста'\n",
    "\n",
    "def without_repeat(string):\n",
    "    '''получает строку и удаляет из нее последовательные повторы повторы слов'''\n",
    "    return re.sub(r'\\b([^\\W\\d_]+)(\\s+\\1)+\\b', r'\\1', string)\n",
    "\n",
    "without_repeat(string1)"
   ]
  },
  {
   "cell_type": "code",
   "execution_count": null,
   "metadata": {},
   "outputs": [],
   "source": []
  },
  {
   "cell_type": "markdown",
   "metadata": {},
   "source": [
    "# Задание 4.\n",
    "Напишите функцию, которая будет проверять номер сотового телефона на валидность, если он валиден, то переводить его в формат:\n",
    "\n",
    "+7(xxx)-xxx-xx-xx\n",
    "\n",
    "\n",
    "Постарайтесь предусмотреть как можно больше адекватных форматов изначального ввода номера. Примеры валидных форматов:\n",
    "\n",
    "\n",
    "    • +7 955 555-55-55;\n",
    "    • 9555555555;\n",
    "    • 8(955)555-55-55;\n",
    "    • +7 955 555 55 55;\n",
    "    • 7(955) 555-55-55;\n",
    "    • +7 955+555+55+55"
   ]
  },
  {
   "cell_type": "code",
   "execution_count": 158,
   "metadata": {},
   "outputs": [
    {
     "data": {
      "text/plain": [
       "'+7(495)-500-55-50'"
      ]
     },
     "execution_count": 158,
     "metadata": {},
     "output_type": "execute_result"
    }
   ],
   "source": [
    "tel_num1 = '+7 495 500-55-50'\n",
    "tel_num2 = 'здесь был вася'\n",
    "\n",
    "def tel_check(tel_num):\n",
    "    num_pattern = r'(\\s*)?(\\+)?([- _():=+]?\\d[- _():=+]?){10,14}(\\s*)?'\n",
    "    tel = re.fullmatch(num_pattern, tel_num)\n",
    "    if tel:\n",
    "        tel01 = re.sub(r'[- _():=+]', r'', tel.group())\n",
    "        return re.sub(r'\\d*(\\d\\d\\d)(\\d\\d\\d)(\\d\\d)(\\d\\d)', r'+7(\\1)-\\2-\\3-\\4', tel01) \n",
    "    else:\n",
    "        return 'error number'\n",
    "\n",
    "tel_check(tel_num1)"
   ]
  },
  {
   "cell_type": "markdown",
   "metadata": {},
   "source": [
    "я надеюсь, что наши расчетные CAE программы никогда не начнут писать в твиттер свои мысли о нас. А если начнут, то придет Сара Коннор и всем им наваляет. "
   ]
  },
  {
   "cell_type": "code",
   "execution_count": null,
   "metadata": {},
   "outputs": [],
   "source": []
  }
 ],
 "metadata": {
  "kernelspec": {
   "display_name": "Python 3",
   "language": "python",
   "name": "python3"
  },
  "language_info": {
   "codemirror_mode": {
    "name": "ipython",
    "version": 3
   },
   "file_extension": ".py",
   "mimetype": "text/x-python",
   "name": "python",
   "nbconvert_exporter": "python",
   "pygments_lexer": "ipython3",
   "version": "3.7.6"
  }
 },
 "nbformat": 4,
 "nbformat_minor": 4
}
